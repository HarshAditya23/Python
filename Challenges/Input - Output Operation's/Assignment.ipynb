{
 "cells": [
  {
   "cell_type": "code",
   "execution_count": 2,
   "metadata": {},
   "outputs": [],
   "source": [
    "with open(\"text.txt\", 'r') as file: #Opening the file using Python's default Input Operation.\n",
    "    data = file.readlines() #The method will returns a list having each line in the file.\n",
    "\n",
    "save = open(\"text2.txt\", 'w+') #Creating a new file using Python's default Output Operation to save the output.\n",
    "\n",
    "for i in data: #For loop is used for traversing the list in data variable.\n",
    "    if \"samsung\" in i: #If samsung is found then replace function will be executed.\n",
    "        replace = i.replace(\"samsung\", \"\\n\\nSamsung\") #This will replace word samsung with Samsung as well as add new line before it. \n",
    "        data.append(replace) #Plus that particular string will be added in data variable as well.\n",
    "    else: #This else will be executed after if condition becomes false (after successfully replacing all the words).\n",
    "        save.write(i) #New file will be created as text2\n",
    "\n",
    "save.close() #Closing the output operation."
   ]
  },
  {
   "cell_type": "code",
   "execution_count": null,
   "metadata": {},
   "outputs": [],
   "source": []
  }
 ],
 "metadata": {
  "kernelspec": {
   "display_name": "Python 3",
   "language": "python",
   "name": "python3"
  },
  "language_info": {
   "codemirror_mode": {
    "name": "ipython",
    "version": 3
   },
   "file_extension": ".py",
   "mimetype": "text/x-python",
   "name": "python",
   "nbconvert_exporter": "python",
   "pygments_lexer": "ipython3",
   "version": "3.7.4"
  }
 },
 "nbformat": 4,
 "nbformat_minor": 2
}
